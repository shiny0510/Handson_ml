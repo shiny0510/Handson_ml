{
 "cells": [
  {
   "cell_type": "markdown",
   "metadata": {},
   "source": [
    "# 핸즈온 머신러닝 노트북\n",
    "\n",
    "*핸즈온 머신러닝 레파지토리에 오신걸 환영합니다!*\n",
    "\n",
    "[필요한 기술](#Prerequisites) (아래를 참고하세요)\n",
    "\n",
    "## 노트북\n",
    "1. [한눈에 보는 머신러닝](01_the_machine_learning_landscape.ipynb)\n",
    "2. [머신러닝 프로젝트 처음부터 끝까지](02_end_to_end_machine_learning_project.ipynb)\n",
    "3. [분류](03_classification.ipynb)\n",
    "4. [모델 훈련](04_training_linear_models.ipynb)\n",
    "5. [서포트 벡터 머신](05_support_vector_machines.ipynb)\n",
    "6. [결정 트리](06_decision_trees.ipynb)\n",
    "7. [앙상블 학습과 랜덤 포레스트](07_ensemble_learning_and_random_forests.ipynb)\n",
    "8. [차원 축소](08_dimensionality_reduction.ipynb)\n",
    "9. [텐서플로 시작하기](09_up_and_running_with_tensorflow.ipynb)\n",
    "10. [인공 신경망 소개](10_introduction_to_artificial_neural_networks.ipynb)\n",
    "11. [심층 신경망 훈련](11_deep_learning.ipynb)\n",
    "12. [다중 머신과 장치를 위한 분산 텐서플로](12_distributed_tensorflow.ipynb)\n",
    "13. [합성곱 신경망](13_convolutional_neural_networks.ipynb)\n",
    "14. [순환 신경망](14_recurrent_neural_networks.ipynb)\n",
    "15. [오토인코더](15_autoencoders.ipynb)\n",
    "16. [강화 학습](16_reinforcement_learning.ipynb)\n",
    "\n",
    "## 파이썬 과학 라이브러리 튜토리얼\n",
    "* [넘파이(NumPy)](tools_numpy.ipynb)\n",
    "* [맷플롯립(Matplotlib)](tools_matplotlib.ipynb)\n",
    "* [판다스(Pandas)](tools_pandas.ipynb)\n",
    "\n",
    "## 수학 튜토리얼\n",
    "* [선형 대수](math_linear_algebra.ipynb)\n",
    "* 미적분 (coming soon)\n",
    "\n",
    "## 부가 자료\n",
    "* [캡슐 네트워크(Capsule Networks)](extra_capsnets.ipynb)\n",
    "\n",
    "## 그외\n",
    "* [수식](book_equations.ipynb) (책에 나온 수식을 모아 놓았습니다)\n"
   ]
  },
  {
   "cell_type": "markdown",
   "metadata": {
    "collapsed": true
   },
   "source": [
    "## 필요한 기술\n",
    "### 이해를 위해서는\n",
    "* **파이썬** – 파이썬 전문가일 필요는 없지만 기초적인 내용은 알고 있어야 합니다. 파이썬이 처음이라면 [파이썬 공식 튜토리얼](https://docs.python.org/3/tutorial/)을 참고하세요. 다른 프로그래밍 언어를 조금 알고 있다면 [번갯불에 파이썬 구워먹기](https://github.com/rickiepark/WhirlwindTourOfPython)를 참고하면 금방 배울 수 있습니다.\n",
    "* **파이썬 과학 패키지** – 여기서는 유명한 파이썬 라이브러리를 사용합니다. 특히 넘파이, 맷플롯립, 판다스를 사용합니다. 이런 라이브러리에 익숙하지 않다면 \"파이썬 과학 라이브러리 튜토리얼\"을 먼저 참고하세요(특히 넘파이).\n",
    "* **수학** – 이 책은 선형 대수, 미적분, 통계, 확률 이론 개념을 조금 사용합니다. 여기서는 매우 깊게 들어가지 않으므로 이전에 배운적이 있다면 따라갈 수 있을 것입니다. 만약 이 부분을 잘 모른다면 \"수학 튜토리얼\" 섹션에 있는 자료를 참고하세요.\n",
    "\n",
    "### 예제를 실행하기 위해서는\n",
    "* **주피터** – 이 노트북들은 주피터를 기반으로 합니다. 코드를 그냥 읽기만 한다면 더이상 무언가를 할 필요는 없습니다. 하지만 이 코드를 테스트해 보려면:     * [설치](https://github.com/rickiepark/handson-ml/#%EC%84%A4%EC%B9%98)을 따라 필요한 패키지를 설치하세요.\n",
    "    * 주피터를 사용하는 법을 배워야합니다. Help 메뉴에서 User Interface Tour를 선택해 보세요."
   ]
  }
 ],
 "metadata": {
  "kernelspec": {
   "display_name": "Python 3",
   "language": "python",
   "name": "python3"
  },
  "language_info": {
   "codemirror_mode": {
    "name": "ipython",
    "version": 3
   },
   "file_extension": ".py",
   "mimetype": "text/x-python",
   "name": "python",
   "nbconvert_exporter": "python",
   "pygments_lexer": "ipython3",
   "version": "3.5.5"
  },
  "nav_menu": {},
  "toc": {
   "navigate_menu": true,
   "number_sections": true,
   "sideBar": true,
   "threshold": 6,
   "toc_cell": false,
   "toc_section_display": "block",
   "toc_window_display": false
  }
 },
 "nbformat": 4,
 "nbformat_minor": 1
}
